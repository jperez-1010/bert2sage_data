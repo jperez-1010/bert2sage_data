{
  "nbformat": 4,
  "nbformat_minor": 0,
  "metadata": {
    "colab": {
      "provenance": [],
      "include_colab_link": true
    },
    "kernelspec": {
      "name": "python3",
      "display_name": "Python 3"
    },
    "language_info": {
      "name": "python"
    },
    "gpuClass": "standard"
  },
  "cells": [
    {
      "cell_type": "markdown",
      "metadata": {
        "id": "view-in-github",
        "colab_type": "text"
      },
      "source": [
        "<a href=\"https://colab.research.google.com/github/jperez-1010/bert2sage_data/blob/main/DRKG_mapping.ipynb\" target=\"_parent\"><img src=\"https://colab.research.google.com/assets/colab-badge.svg\" alt=\"Open In Colab\"/></a>"
      ]
    },
    {
      "cell_type": "markdown",
      "source": [
        "DRKG\n",
        "\n",
        "Adapted from: https://github.com/gnn4dr/DRKG/blob/master/drkg_with_dgl/loading_drkg_in_dgl.ipynb"
      ],
      "metadata": {
        "id": "DnQGl_D4786T"
      }
    },
    {
      "cell_type": "code",
      "source": [
        "# https://www.dgl.ai/pages/start.html\n",
        "!pip install  dgl -f https://data.dgl.ai/wheels/repo.html\n",
        "!pip install  dglgo -f https://data.dgl.ai/wheels-test/repo.html\n",
        "!pip install  dglke\n",
        "!pip install tabulate\n",
        "#!git clone    https://github.com/gnn4dr/DRKG.git"
      ],
      "metadata": {
        "colab": {
          "base_uri": "https://localhost:8080/"
        },
        "id": "vwq5SBbs7BBE",
        "outputId": "a3a9f029-2fdb-45f5-9ab7-303c32c40ca1"
      },
      "execution_count": null,
      "outputs": [
        {
          "output_type": "stream",
          "name": "stdout",
          "text": [
            "Looking in indexes: https://pypi.org/simple, https://us-python.pkg.dev/colab-wheels/public/simple/\n",
            "Looking in links: https://data.dgl.ai/wheels/repo.html\n",
            "Requirement already satisfied: dgl in /usr/local/lib/python3.10/dist-packages (1.0.2)\n",
            "Requirement already satisfied: networkx>=2.1 in /usr/local/lib/python3.10/dist-packages (from dgl) (3.1)\n",
            "Requirement already satisfied: numpy>=1.14.0 in /usr/local/lib/python3.10/dist-packages (from dgl) (1.22.4)\n",
            "Requirement already satisfied: tqdm in /usr/local/lib/python3.10/dist-packages (from dgl) (4.65.0)\n",
            "Requirement already satisfied: scipy>=1.1.0 in /usr/local/lib/python3.10/dist-packages (from dgl) (1.10.1)\n",
            "Requirement already satisfied: requests>=2.19.0 in /usr/local/lib/python3.10/dist-packages (from dgl) (2.27.1)\n",
            "Requirement already satisfied: psutil>=5.8.0 in /usr/local/lib/python3.10/dist-packages (from dgl) (5.9.5)\n",
            "Requirement already satisfied: idna<4,>=2.5 in /usr/local/lib/python3.10/dist-packages (from requests>=2.19.0->dgl) (3.4)\n",
            "Requirement already satisfied: urllib3<1.27,>=1.21.1 in /usr/local/lib/python3.10/dist-packages (from requests>=2.19.0->dgl) (1.26.15)\n",
            "Requirement already satisfied: charset-normalizer~=2.0.0 in /usr/local/lib/python3.10/dist-packages (from requests>=2.19.0->dgl) (2.0.12)\n",
            "Requirement already satisfied: certifi>=2017.4.17 in /usr/local/lib/python3.10/dist-packages (from requests>=2.19.0->dgl) (2022.12.7)\n",
            "Looking in indexes: https://pypi.org/simple, https://us-python.pkg.dev/colab-wheels/public/simple/\n",
            "Looking in links: https://data.dgl.ai/wheels-test/repo.html\n",
            "Requirement already satisfied: dglgo in /usr/local/lib/python3.10/dist-packages (0.0.2)\n",
            "Requirement already satisfied: isort>=5.10.1 in /usr/local/lib/python3.10/dist-packages (from dglgo) (5.12.0)\n",
            "Requirement already satisfied: scikit-learn>=0.20.0 in /usr/local/lib/python3.10/dist-packages (from dglgo) (1.2.2)\n",
            "Requirement already satisfied: autopep8>=1.6.0 in /usr/local/lib/python3.10/dist-packages (from dglgo) (2.0.2)\n",
            "Requirement already satisfied: rdkit-pypi in /usr/local/lib/python3.10/dist-packages (from dglgo) (2022.9.5)\n",
            "Requirement already satisfied: pydantic>=1.9.0 in /usr/local/lib/python3.10/dist-packages (from dglgo) (1.10.7)\n",
            "Requirement already satisfied: numpydoc>=1.1.0 in /usr/local/lib/python3.10/dist-packages (from dglgo) (1.5.0)\n",
            "Requirement already satisfied: PyYAML>=5.1 in /usr/local/lib/python3.10/dist-packages (from dglgo) (6.0)\n",
            "Requirement already satisfied: typer>=0.4.0 in /usr/local/lib/python3.10/dist-packages (from dglgo) (0.7.0)\n",
            "Requirement already satisfied: ruamel.yaml>=0.17.20 in /usr/local/lib/python3.10/dist-packages (from dglgo) (0.17.21)\n",
            "Requirement already satisfied: ogb>=1.3.3 in /usr/local/lib/python3.10/dist-packages (from dglgo) (1.3.6)\n",
            "Requirement already satisfied: pycodestyle>=2.10.0 in /usr/local/lib/python3.10/dist-packages (from autopep8>=1.6.0->dglgo) (2.10.0)\n",
            "Requirement already satisfied: tomli in /usr/local/lib/python3.10/dist-packages (from autopep8>=1.6.0->dglgo) (2.0.1)\n",
            "Requirement already satisfied: Jinja2>=2.10 in /usr/local/lib/python3.10/dist-packages (from numpydoc>=1.1.0->dglgo) (3.1.2)\n",
            "Requirement already satisfied: sphinx>=4.2 in /usr/local/lib/python3.10/dist-packages (from numpydoc>=1.1.0->dglgo) (7.0.0)\n",
            "Requirement already satisfied: urllib3>=1.24.0 in /usr/local/lib/python3.10/dist-packages (from ogb>=1.3.3->dglgo) (1.26.15)\n",
            "Requirement already satisfied: numpy>=1.16.0 in /usr/local/lib/python3.10/dist-packages (from ogb>=1.3.3->dglgo) (1.22.4)\n",
            "Requirement already satisfied: pandas>=0.24.0 in /usr/local/lib/python3.10/dist-packages (from ogb>=1.3.3->dglgo) (1.5.3)\n",
            "Requirement already satisfied: six>=1.12.0 in /usr/local/lib/python3.10/dist-packages (from ogb>=1.3.3->dglgo) (1.16.0)\n",
            "Requirement already satisfied: torch>=1.6.0 in /usr/local/lib/python3.10/dist-packages (from ogb>=1.3.3->dglgo) (2.0.0+cu118)\n",
            "Requirement already satisfied: outdated>=0.2.0 in /usr/local/lib/python3.10/dist-packages (from ogb>=1.3.3->dglgo) (0.2.2)\n",
            "Requirement already satisfied: tqdm>=4.29.0 in /usr/local/lib/python3.10/dist-packages (from ogb>=1.3.3->dglgo) (4.65.0)\n",
            "Requirement already satisfied: typing-extensions>=4.2.0 in /usr/local/lib/python3.10/dist-packages (from pydantic>=1.9.0->dglgo) (4.5.0)\n",
            "Requirement already satisfied: ruamel.yaml.clib>=0.2.6 in /usr/local/lib/python3.10/dist-packages (from ruamel.yaml>=0.17.20->dglgo) (0.2.7)\n",
            "Requirement already satisfied: threadpoolctl>=2.0.0 in /usr/local/lib/python3.10/dist-packages (from scikit-learn>=0.20.0->dglgo) (3.1.0)\n",
            "Requirement already satisfied: scipy>=1.3.2 in /usr/local/lib/python3.10/dist-packages (from scikit-learn>=0.20.0->dglgo) (1.10.1)\n",
            "Requirement already satisfied: joblib>=1.1.1 in /usr/local/lib/python3.10/dist-packages (from scikit-learn>=0.20.0->dglgo) (1.2.0)\n",
            "Requirement already satisfied: click<9.0.0,>=7.1.1 in /usr/local/lib/python3.10/dist-packages (from typer>=0.4.0->dglgo) (8.1.3)\n",
            "Requirement already satisfied: Pillow in /usr/local/lib/python3.10/dist-packages (from rdkit-pypi->dglgo) (8.4.0)\n",
            "Requirement already satisfied: MarkupSafe>=2.0 in /usr/local/lib/python3.10/dist-packages (from Jinja2>=2.10->numpydoc>=1.1.0->dglgo) (2.1.2)\n",
            "Requirement already satisfied: setuptools>=44 in /usr/local/lib/python3.10/dist-packages (from outdated>=0.2.0->ogb>=1.3.3->dglgo) (67.7.2)\n",
            "Requirement already satisfied: littleutils in /usr/local/lib/python3.10/dist-packages (from outdated>=0.2.0->ogb>=1.3.3->dglgo) (0.2.2)\n",
            "Requirement already satisfied: requests in /usr/local/lib/python3.10/dist-packages (from outdated>=0.2.0->ogb>=1.3.3->dglgo) (2.27.1)\n",
            "Requirement already satisfied: python-dateutil>=2.8.1 in /usr/local/lib/python3.10/dist-packages (from pandas>=0.24.0->ogb>=1.3.3->dglgo) (2.8.2)\n",
            "Requirement already satisfied: pytz>=2020.1 in /usr/local/lib/python3.10/dist-packages (from pandas>=0.24.0->ogb>=1.3.3->dglgo) (2022.7.1)\n",
            "Requirement already satisfied: sphinxcontrib-devhelp in /usr/local/lib/python3.10/dist-packages (from sphinx>=4.2->numpydoc>=1.1.0->dglgo) (1.0.2)\n",
            "Requirement already satisfied: sphinxcontrib-qthelp in /usr/local/lib/python3.10/dist-packages (from sphinx>=4.2->numpydoc>=1.1.0->dglgo) (1.0.3)\n",
            "Requirement already satisfied: docutils<0.20,>=0.18.1 in /usr/local/lib/python3.10/dist-packages (from sphinx>=4.2->numpydoc>=1.1.0->dglgo) (0.19)\n",
            "Requirement already satisfied: alabaster<0.8,>=0.7 in /usr/local/lib/python3.10/dist-packages (from sphinx>=4.2->numpydoc>=1.1.0->dglgo) (0.7.13)\n",
            "Requirement already satisfied: imagesize>=1.3 in /usr/local/lib/python3.10/dist-packages (from sphinx>=4.2->numpydoc>=1.1.0->dglgo) (1.4.1)\n",
            "Requirement already satisfied: packaging>=21.0 in /usr/local/lib/python3.10/dist-packages (from sphinx>=4.2->numpydoc>=1.1.0->dglgo) (23.1)\n",
            "Requirement already satisfied: sphinxcontrib-htmlhelp>=2.0.0 in /usr/local/lib/python3.10/dist-packages (from sphinx>=4.2->numpydoc>=1.1.0->dglgo) (2.0.1)\n",
            "Requirement already satisfied: Pygments>=2.13 in /usr/local/lib/python3.10/dist-packages (from sphinx>=4.2->numpydoc>=1.1.0->dglgo) (2.14.0)\n",
            "Requirement already satisfied: sphinxcontrib-jsmath in /usr/local/lib/python3.10/dist-packages (from sphinx>=4.2->numpydoc>=1.1.0->dglgo) (1.0.1)\n",
            "Requirement already satisfied: babel>=2.9 in /usr/local/lib/python3.10/dist-packages (from sphinx>=4.2->numpydoc>=1.1.0->dglgo) (2.12.1)\n",
            "Requirement already satisfied: sphinxcontrib-applehelp in /usr/local/lib/python3.10/dist-packages (from sphinx>=4.2->numpydoc>=1.1.0->dglgo) (1.0.4)\n",
            "Requirement already satisfied: snowballstemmer>=2.0 in /usr/local/lib/python3.10/dist-packages (from sphinx>=4.2->numpydoc>=1.1.0->dglgo) (2.2.0)\n",
            "Requirement already satisfied: sphinxcontrib-serializinghtml>=1.1.5 in /usr/local/lib/python3.10/dist-packages (from sphinx>=4.2->numpydoc>=1.1.0->dglgo) (1.1.5)\n",
            "Requirement already satisfied: filelock in /usr/local/lib/python3.10/dist-packages (from torch>=1.6.0->ogb>=1.3.3->dglgo) (3.12.0)\n",
            "Requirement already satisfied: triton==2.0.0 in /usr/local/lib/python3.10/dist-packages (from torch>=1.6.0->ogb>=1.3.3->dglgo) (2.0.0)\n",
            "Requirement already satisfied: sympy in /usr/local/lib/python3.10/dist-packages (from torch>=1.6.0->ogb>=1.3.3->dglgo) (1.11.1)\n",
            "Requirement already satisfied: networkx in /usr/local/lib/python3.10/dist-packages (from torch>=1.6.0->ogb>=1.3.3->dglgo) (3.1)\n",
            "Requirement already satisfied: lit in /usr/local/lib/python3.10/dist-packages (from triton==2.0.0->torch>=1.6.0->ogb>=1.3.3->dglgo) (16.0.2)\n",
            "Requirement already satisfied: cmake in /usr/local/lib/python3.10/dist-packages (from triton==2.0.0->torch>=1.6.0->ogb>=1.3.3->dglgo) (3.25.2)\n",
            "Requirement already satisfied: charset-normalizer~=2.0.0 in /usr/local/lib/python3.10/dist-packages (from requests->outdated>=0.2.0->ogb>=1.3.3->dglgo) (2.0.12)\n",
            "Requirement already satisfied: certifi>=2017.4.17 in /usr/local/lib/python3.10/dist-packages (from requests->outdated>=0.2.0->ogb>=1.3.3->dglgo) (2022.12.7)\n",
            "Requirement already satisfied: idna<4,>=2.5 in /usr/local/lib/python3.10/dist-packages (from requests->outdated>=0.2.0->ogb>=1.3.3->dglgo) (3.4)\n",
            "Requirement already satisfied: mpmath>=0.19 in /usr/local/lib/python3.10/dist-packages (from sympy->torch>=1.6.0->ogb>=1.3.3->dglgo) (1.3.0)\n",
            "Looking in indexes: https://pypi.org/simple, https://us-python.pkg.dev/colab-wheels/public/simple/\n",
            "Requirement already satisfied: dglke in /usr/local/lib/python3.10/dist-packages (0.1.2)\n",
            "Requirement already satisfied: numpy in /usr/local/lib/python3.10/dist-packages (from dglke) (1.22.4)\n",
            "Requirement already satisfied: setuptools in /usr/local/lib/python3.10/dist-packages (from dglke) (67.7.2)\n",
            "Cloning into 'DRKG'...\n",
            "remote: Enumerating objects: 296, done.\u001b[K\n",
            "remote: Counting objects: 100% (8/8), done.\u001b[K\n",
            "remote: Compressing objects: 100% (6/6), done.\u001b[K\n",
            "remote: Total 296 (delta 5), reused 2 (delta 2), pack-reused 288\u001b[K\n",
            "Receiving objects: 100% (296/296), 19.56 MiB | 19.49 MiB/s, done.\n",
            "Resolving deltas: 100% (146/146), done.\n"
          ]
        }
      ]
    },
    {
      "cell_type": "code",
      "source": [
        "### Mount Drive ###\n",
        "from google.colab import drive\n",
        "drive.mount('/content/drive')\n",
        "\n",
        "### Import Statments ###\n",
        "\n",
        "import dgl\n",
        "import csv\n",
        "import sys\n",
        "import torch\n",
        "import tabulate\n",
        "import pandas as pd\n",
        "import numpy as np\n",
        "import os "
      ],
      "metadata": {
        "colab": {
          "base_uri": "https://localhost:8080/"
        },
        "id": "PV4N5XSIKfTa",
        "outputId": "63a3ca5b-cc95-4671-946b-3c6366ff9af6"
      },
      "execution_count": null,
      "outputs": [
        {
          "output_type": "stream",
          "name": "stdout",
          "text": [
            "Drive already mounted at /content/drive; to attempt to forcibly remount, call drive.mount(\"/content/drive\", force_remount=True).\n"
          ]
        }
      ]
    },
    {
      "cell_type": "markdown",
      "source": [
        "Download and unzip files"
      ],
      "metadata": {
        "id": "nlfUkH6VkNJ9"
      }
    },
    {
      "cell_type": "code",
      "source": [
        "# DRKG\n",
        "!wget https://dgl-data.s3-us-west-2.amazonaws.com/dataset/DRKG/drkg.tar.gz\n",
        "!tar -xvf  'drkg.tar.gz' \n",
        "\n",
        "# Hetionet mapping\n",
        "!wget https://raw.githubusercontent.com/hetio/hetionet/main/hetnet/tsv/hetionet-v1.0-nodes.tsv\n",
        "\n",
        "# MeSH terms\n",
        "!wget https://raw.githubusercontent.com/dhimmel/mesh/gh-pages/data/terms.tsv"
      ],
      "metadata": {
        "colab": {
          "base_uri": "https://localhost:8080/"
        },
        "id": "IGFIIUh1ioT6",
        "outputId": "57aae152-719c-4017-ffe4-102d6eae1ddb"
      },
      "execution_count": null,
      "outputs": [
        {
          "output_type": "stream",
          "name": "stdout",
          "text": [
            "--2023-04-29 22:42:30--  https://dgl-data.s3-us-west-2.amazonaws.com/dataset/DRKG/drkg.tar.gz\n",
            "Resolving dgl-data.s3-us-west-2.amazonaws.com (dgl-data.s3-us-west-2.amazonaws.com)... 52.218.222.1, 52.218.184.105, 52.218.250.129, ...\n",
            "Connecting to dgl-data.s3-us-west-2.amazonaws.com (dgl-data.s3-us-west-2.amazonaws.com)|52.218.222.1|:443... connected.\n",
            "HTTP request sent, awaiting response... 200 OK\n",
            "Length: 216650245 (207M) [application/x-tar]\n",
            "Saving to: ‘drkg.tar.gz.2’\n",
            "\n",
            "drkg.tar.gz.2       100%[===================>] 206.61M  21.4MB/s    in 11s     \n",
            "\n",
            "2023-04-29 22:42:42 (18.0 MB/s) - ‘drkg.tar.gz.2’ saved [216650245/216650245]\n",
            "\n",
            "._drkg.tsv\n",
            "drkg.tsv\n",
            "._embed\n",
            "embed/\n",
            "embed/DRKG_TransE_l2_relation.npy\n",
            "embed/._relations.tsv\n",
            "embed/relations.tsv\n",
            "embed/._entities.tsv\n",
            "embed/entities.tsv\n",
            "embed/Readme.md\n",
            "embed/mol_edgepred.npy\n",
            "embed/mol_infomax.npy\n",
            "embed/mol_masking.npy\n",
            "embed/mol_contextpred.npy\n",
            "embed/DRKG_TransE_l2_entity.npy\n",
            "._entity2src.tsv\n",
            "entity2src.tsv\n",
            "._relation_glossary.tsv\n",
            "relation_glossary.tsv\n",
            "--2023-04-29 22:42:47--  https://raw.githubusercontent.com/hetio/hetionet/main/hetnet/tsv/hetionet-v1.0-nodes.tsv\n",
            "Resolving raw.githubusercontent.com (raw.githubusercontent.com)... 185.199.108.133, 185.199.109.133, 185.199.110.133, ...\n",
            "Connecting to raw.githubusercontent.com (raw.githubusercontent.com)|185.199.108.133|:443... connected.\n",
            "HTTP request sent, awaiting response... 200 OK\n",
            "Length: 2509984 (2.4M) [text/plain]\n",
            "Saving to: ‘hetionet-v1.0-nodes.tsv’\n",
            "\n",
            "hetionet-v1.0-nodes 100%[===================>]   2.39M  --.-KB/s    in 0.08s   \n",
            "\n",
            "2023-04-29 22:42:48 (30.5 MB/s) - ‘hetionet-v1.0-nodes.tsv’ saved [2509984/2509984]\n",
            "\n",
            "--2023-04-29 22:42:48--  https://raw.githubusercontent.com/dhimmel/mesh/gh-pages/data/terms.tsv\n",
            "Resolving raw.githubusercontent.com (raw.githubusercontent.com)... 185.199.108.133, 185.199.109.133, 185.199.110.133, ...\n",
            "Connecting to raw.githubusercontent.com (raw.githubusercontent.com)|185.199.108.133|:443... connected.\n",
            "HTTP request sent, awaiting response... 200 OK\n",
            "Length: 742075 (725K) [text/plain]\n",
            "Saving to: ‘terms.tsv’\n",
            "\n",
            "terms.tsv           100%[===================>] 724.68K  --.-KB/s    in 0.05s   \n",
            "\n",
            "2023-04-29 22:42:49 (13.5 MB/s) - ‘terms.tsv’ saved [742075/742075]\n",
            "\n"
          ]
        }
      ]
    },
    {
      "cell_type": "code",
      "source": [
        "######## Read Functions  ##################\n",
        "def print_head(df:pd.core.frame.DataFrame,n:int=5) -> None:\n",
        "  print(tabulate.tabulate(df.head(n) , headers='keys', tablefmt='psql'))\n",
        "\n",
        "  \n",
        "def get_triplets(drkg_file:str = 'drkg.tsv',verbose:bool=False) -> list:\n",
        "  \"\"\" Read drkg.tsv file and return triplets \"\"\"\n",
        "\n",
        "  df        = pd.read_csv(drkg_file, sep=\"\\t\", header=None, engine=\"pyarrow\")\n",
        "  triplets  = df.values.tolist()\n",
        "\n",
        "  if verbose: \n",
        "\n",
        "    print(\"\\n Triplets:\\n\")\n",
        "    print(triplets[0:10])\n",
        "\n",
        "    print(f\"\\n {drkg_file}  Dataframe:\\n\")\n",
        "    print_head(df)\n",
        "  return triplets,df\n",
        "\n",
        "\n",
        "\n",
        "\n",
        "def  read_tsv(relation_file:str,verbose:bool=False):\n",
        "  \"\"\" Read glossary \"\"\" \n",
        "  df = pd.read_csv(relation_file, sep=\"\\t\",engine=\"pyarrow\")\n",
        "\n",
        "  if verbose:\n",
        "    print(f\"\\n {relation_file}  Dataframe:\\n\")\n",
        "    print_head(df)\n",
        "  return df\n",
        "\n",
        "\n",
        "\n",
        "\n",
        "\n",
        "########## Filter & Map Functions ###################\n",
        "def filter_drkg(data_frame:pd.core.frame.DataFrame, filter_column:int,filter_term:str,verbose:bool=False) -> pd.core.frame.DataFrame:\n",
        "  \"\"\"\n",
        "    Arguments:\n",
        "      filter_column<int>: column use to filter \n",
        "      fitler_term<str>:   string (use for Regex) capturing  either the interaction to filter or head/tail  e.g.: r'.*?Compound:Disease'\n",
        " \n",
        "    Outputs: \n",
        "      df:<pd.core.frame.DataFrame> A filter dataframe \n",
        "  \"\"\"\n",
        "  relations           = pd.Series(data_frame[filter_column].unique())\n",
        "  relations_filtered  = relations[relations.str.contains(filter_term, regex=True)]\n",
        "\n",
        "  if verbose: \n",
        "    print(f\"Number of Rows Before Filtering: {len(relations)}\")\n",
        "    print(f\"Number of Rows After Filtering: {len(relations_filtered )}\\n\")\n",
        "    print(\"\\nFiltered:\")\n",
        "    print(relations_filtered ) \n",
        "\n",
        "  return relations_filtered \n",
        "\n",
        "\n",
        "\n",
        "\n",
        "def map_drkg_relationships(df_1,relation_glossary,verbose:bool=False):\n",
        "  df_1_ = df_1.to_frame().merge( relation_glossary, left_on=0, right_on='Relation-name', how='left')\n",
        "\n",
        "  if verbose:\n",
        "    print(\"\\nRelationships Mapped:\")\n",
        "    print(df_1_['Interaction-type'])\n",
        "  \n",
        "  return  df_1_\n",
        "\n",
        "\n",
        "\n",
        "def filter_interaction_subset(df:pd.core.frame.DataFrame,filter_colunm_name:str,regex_string:str,return_colunm_name:str=None) -> pd.core.frame.DataFrame:\n",
        "    \"\"\"\n",
        "    Arguments:\n",
        "      df:<pd.core.frame.DataFrame>:    DataFrame to filter \n",
        "      filter_colunm_name<str>:         Dataframe column use to do the filtering \n",
        "      regex_string<str>:               Regular Expression use to filter e.g. 'treat|inhibit|alleviate\n",
        "      return_colunm_name<str:optional> Optional Name of the filtered column to return, if None it returns the dataframe \n",
        "\n",
        "\n",
        "      filter_column<int>: column use to filter \n",
        "      fitler_term<str>:   string (use for Regex) capturing  either the interaction to filter or head/tail  e.g.: r'.*?Compound:Disease'\n",
        " \n",
        "    Outputs: \n",
        "      df:<pd.core.frame.DataFrame> A filter dataframe \n",
        "  \"\"\"\n",
        "\n",
        "    subset = df[df[filter_colunm_name].str.contains(regex_string, regex=True)]  # Filter dataframe based on regex\n",
        "\n",
        "    ### Return a specific column if user requests it ###\n",
        "    if return_colunm_name != None: \n",
        "        subset  =  subset[return_colunm_name]\n",
        "\n",
        "\n",
        "    return subset\n",
        "\n",
        "\n",
        "\n",
        "def get_unique_values(df, colunm:int) :\n",
        "  \"\"\"  Check if any entries are null or contain :: \"\"\"\n",
        "  df0_test = np.unique(df[colunm][df[colunm].str.contains(\"::\")].to_numpy())\n",
        "  return df0_test\n",
        "\n",
        "\n"
      ],
      "metadata": {
        "id": "POjzaY6yTUsm"
      },
      "execution_count": null,
      "outputs": []
    },
    {
      "cell_type": "markdown",
      "source": [
        "# 1) Load Data"
      ],
      "metadata": {
        "id": "VsLJKwgRxArZ"
      }
    },
    {
      "cell_type": "code",
      "source": [
        "### 1) Read: This section reads DRKG and a glossary (used to map entitites from codes to words)\n",
        "verbose            =  True \n",
        "triplets,drkg_df   =  get_triplets(verbose=verbose)                         # Read triplets (head,relationship,tail)\n",
        "relation_glossary  =  read_tsv('relation_glossary.tsv',verbose=verbose)     # Read relationship mapping  \n",
        "\n",
        "\n",
        "### 2) Filter & Map Interactions: This section returns a list of interactions e.g. DRUGBANK::treats::Compound:Disease )\n",
        "# 2.1: First  we filter the interactions to only Compound-Disease\n",
        "# 2.2: Then   we map the codes -> text  (this will be use to further filter interactions based on text) e.g.  Hetionet::CpD::Compound:Disease -> palliation\n",
        "# 2.3: We use natural text to fitler  interactions based on terms such as \"treat\" (but we return the orignal interaction name )\n",
        "\n",
        "\n",
        "drkg_rx_dx_relations        = filter_drkg(data_frame = drkg_df ,  filter_column = 1 ,  filter_term = r'.*?Compound:Disease', verbose = verbose) # 2.1 Filter only Compound-Disease Interactions\n",
        "drkg_rx_dx_relations_mapped = map_drkg_relationships(drkg_rx_dx_relations,relation_glossary,verbose=verbose)                                    # 2.2 Map codes to text \n",
        "\n",
        "### 2.3 Filter Drug interactions Interaction types to onyl include: treat inhibit or alleviate interactions  ###\n",
        "drkg_rx_dx_relation_subset =  filter_interaction_subset(df                  = drkg_rx_dx_relations_mapped,\n",
        "                                                        filter_colunm_name = 'Interaction-type' ,\n",
        "                                                        regex_string       =  'treat|inhibit|alleviate',\n",
        "                                                        return_colunm_name =  'Relation-name')\n",
        "\n",
        "# 3) Use Filter Interactions to get Gilter DRKG \n",
        "drkg_df_filtered = drkg_df[drkg_df[1].isin(drkg_rx_dx_relation_subset)] # 3.1 Filter DRKG  to only  Compund-Disease \n",
        "print_head(df=drkg_df_filtered)\n",
        "rx_dx_triplets   = drkg_df_filtered.values.tolist()                     # 3.2 Convert  Fitlterh DRKG to list\n",
        "\n",
        "\n",
        "\n",
        "# 4) Load Data frames for translation\n",
        "hetionet_df   =  read_tsv('hetionet-v1.0-nodes.tsv',verbose=verbose)    # Read relationship mapping  \n",
        "mesh_df       =  read_tsv( 'terms.tsv',verbose=verbose)                 # Read MeSH (Medical-Subjects Heading ) file (Disease and Drugs codes )"
      ],
      "metadata": {
        "colab": {
          "base_uri": "https://localhost:8080/"
        },
        "id": "KYBnEGL4Nixb",
        "outputId": "6a2f4884-8db6-47e3-cfcf-c209adee9f31"
      },
      "execution_count": null,
      "outputs": [
        {
          "output_type": "stream",
          "name": "stdout",
          "text": [
            "\n",
            " Triplets:\n",
            "\n",
            "[['Gene::2157', 'bioarx::HumGenHumGen:Gene:Gene', 'Gene::2157'], ['Gene::2157', 'bioarx::HumGenHumGen:Gene:Gene', 'Gene::5264'], ['Gene::2157', 'bioarx::HumGenHumGen:Gene:Gene', 'Gene::2158'], ['Gene::2157', 'bioarx::HumGenHumGen:Gene:Gene', 'Gene::3309'], ['Gene::2157', 'bioarx::HumGenHumGen:Gene:Gene', 'Gene::28912'], ['Gene::2157', 'bioarx::HumGenHumGen:Gene:Gene', 'Gene::811'], ['Gene::2157', 'bioarx::HumGenHumGen:Gene:Gene', 'Gene::2159'], ['Gene::2157', 'bioarx::HumGenHumGen:Gene:Gene', 'Gene::821'], ['Gene::2157', 'bioarx::HumGenHumGen:Gene:Gene', 'Gene::5627'], ['Gene::2157', 'bioarx::HumGenHumGen:Gene:Gene', 'Gene::5624']]\n",
            "\n",
            " drkg.tsv  Dataframe:\n",
            "\n",
            "+----+------------+--------------------------------+-------------+\n",
            "|    | 0          | 1                              | 2           |\n",
            "|----+------------+--------------------------------+-------------|\n",
            "|  0 | Gene::2157 | bioarx::HumGenHumGen:Gene:Gene | Gene::2157  |\n",
            "|  1 | Gene::2157 | bioarx::HumGenHumGen:Gene:Gene | Gene::5264  |\n",
            "|  2 | Gene::2157 | bioarx::HumGenHumGen:Gene:Gene | Gene::2158  |\n",
            "|  3 | Gene::2157 | bioarx::HumGenHumGen:Gene:Gene | Gene::3309  |\n",
            "|  4 | Gene::2157 | bioarx::HumGenHumGen:Gene:Gene | Gene::28912 |\n",
            "+----+------------+--------------------------------+-------------+\n",
            "\n",
            " relation_glossary.tsv  Dataframe:\n",
            "\n",
            "+----+--------------------------------------------+---------------+--------------------------+-----------------------+---------------------------------------------------------------------------------------------------------------------------------------------------------------------------------+--------------------------------------+\n",
            "|    | Relation-name                              | Data-source   | Connected entity-types   | Interaction-type      | Description                                                                                                                                                                     | Reference for the description        |\n",
            "|----+--------------------------------------------+---------------+--------------------------+-----------------------+---------------------------------------------------------------------------------------------------------------------------------------------------------------------------------+--------------------------------------|\n",
            "|  0 | DGIDB::ACTIVATOR::Gene:Compound            | DGIDB         | Compound:Gene            | activation            | An activator interaction is when a drug activates a biological response from a target, although the mechanism by which it does so may not be understood.                        | http://www.dgidb.org/getting_started |\n",
            "|  1 | DGIDB::AGONIST::Gene:Compound              | DGIDB         | Compound:Gene            | agonism               | An agonist interaction occurs when a drug binds to a target receptor and activates the receptor to produce a biological response.                                               | http://www.dgidb.org/getting_started |\n",
            "|  2 | DGIDB::ALLOSTERIC MODULATOR::Gene:Compound | DGIDB         | Compound:Gene            | allosteric modulation | An allosteric modulator interaction occurs when drugs exert their effects on their protein targets via a different binding site than the natural (orthosteric) ligand site.     | http://www.dgidb.org/getting_started |\n",
            "|  3 | DGIDB::ANTAGONIST::Gene:Compound           | DGIDB         | Compound:Gene            | antagonism            | An antagonist interaction occurs when a drug blocks or dampens agonist-mediated responses rather than provoking a biological response itself upon binding to a target receptor. | http://www.dgidb.org/getting_started |\n",
            "|  4 | DGIDB::ANTIBODY::Gene:Compound             | DGIDB         | Compound:Gene            | antibody              | An antibody interaction occurs when an antibody drug specifically binds the target molecule.                                                                                    | http://www.dgidb.org/getting_started |\n",
            "+----+--------------------------------------------+---------------+--------------------------+-----------------------+---------------------------------------------------------------------------------------------------------------------------------------------------------------------------------+--------------------------------------+\n",
            "Number of Rows Before Filtering: 107\n",
            "Number of Rows After Filtering: 10\n",
            "\n",
            "\n",
            "Filtered:\n",
            "24    DRUGBANK::treats::Compound:Disease\n",
            "35             GNBR::T::Compound:Disease\n",
            "36             GNBR::C::Compound:Disease\n",
            "37            GNBR::Sa::Compound:Disease\n",
            "38            GNBR::Pa::Compound:Disease\n",
            "39            GNBR::Mp::Compound:Disease\n",
            "40            GNBR::Pr::Compound:Disease\n",
            "41             GNBR::J::Compound:Disease\n",
            "68       Hetionet::CtD::Compound:Disease\n",
            "73       Hetionet::CpD::Compound:Disease\n",
            "dtype: object\n",
            "\n",
            "Relationships Mapped:\n",
            "0                    Compound treats the disease\n",
            "1    treatment/therapy (including investigatory)\n",
            "2            inhibits cell growth (esp. cancers)\n",
            "3                      side effect/adverse event\n",
            "4                            alleviates, reduces\n",
            "5            biomarkers (of disease progression)\n",
            "6                           prevents, suppresses\n",
            "7                   role in disease pathogenesis\n",
            "8                                      treatment\n",
            "9                                     palliation\n",
            "Name: Interaction-type, dtype: object\n",
            "+---------+-------------------+------------------------------------+-----------------------+\n",
            "|         | 0                 | 1                                  | 2                     |\n",
            "|---------+-------------------+------------------------------------+-----------------------|\n",
            "| 1518268 | Compound::DB00003 | DRUGBANK::treats::Compound:Disease | Disease::MESH:D003550 |\n",
            "| 1518269 | Compound::DB00004 | DRUGBANK::treats::Compound:Disease | Disease::MESH:C063419 |\n",
            "| 1518270 | Compound::DB00005 | DRUGBANK::treats::Compound:Disease | Disease::MESH:D013167 |\n",
            "| 1518271 | Compound::DB00005 | DRUGBANK::treats::Compound:Disease | Disease::MESH:D006086 |\n",
            "| 1518272 | Compound::DB00005 | DRUGBANK::treats::Compound:Disease | Disease::MESH:D017497 |\n",
            "+---------+-------------------+------------------------------------+-----------------------+\n",
            "\n",
            " hetionet-v1.0-nodes.tsv  Dataframe:\n",
            "\n",
            "+----+-------------------------+---------------------------+---------+\n",
            "|    | id                      | name                      | kind    |\n",
            "|----+-------------------------+---------------------------+---------|\n",
            "|  0 | Anatomy::UBERON:0000002 | uterine cervix            | Anatomy |\n",
            "|  1 | Anatomy::UBERON:0000004 | nose                      | Anatomy |\n",
            "|  2 | Anatomy::UBERON:0000006 | islet of Langerhans       | Anatomy |\n",
            "|  3 | Anatomy::UBERON:0000007 | pituitary gland           | Anatomy |\n",
            "|  4 | Anatomy::UBERON:0000010 | peripheral nervous system | Anatomy |\n",
            "+----+-------------------------+---------------------------+---------+\n",
            "\n",
            " terms.tsv  Dataframe:\n",
            "\n",
            "+----+-----------+------------------------+\n",
            "|    | mesh_id   | mesh_name              |\n",
            "|----+-----------+------------------------|\n",
            "|  0 | D000001   | Calcimycin             |\n",
            "|  1 | D000002   | Temefos                |\n",
            "|  2 | D000003   | Abattoirs              |\n",
            "|  3 | D000004   | Abbreviations as Topic |\n",
            "|  4 | D000005   | Abdomen                |\n",
            "+----+-----------+------------------------+\n"
          ]
        }
      ]
    },
    {
      "cell_type": "code",
      "source": [
        "# Make dictionaries\n",
        "relation_glossary_relation_dict = pd.Series(relation_glossary['Interaction-type'].values, index=relation_glossary['Relation-name']).to_dict()\n",
        "\n",
        "node_df   = pd.concat([hetionet_df[['name', 'id']], mesh_df.rename(columns = {\"mesh_name\":\"name\", \"mesh_id\":\"id\"})], ignore_index=True, axis=0)\n",
        "node_dict = pd.Series(node_df['name'].values, index=node_df['id']).to_dict()\n",
        "\n",
        "# in hetionet data - ony missing C562840 for Breast Cancer, Familial and C562839 for Malignant Mesothelioma\n",
        "# hetionet_drkg3[hetionet_drkg3['id'].isnull() & hetionet_drkg3['mesh_id'].isnull()].drop_duplicates(subset=['id', 'MeSH'])\n",
        "\n",
        "df_med    = drkg_df.copy()\n",
        "df_med[0] = df_med[0].str.replace(r'.*?MESH:', \"\", regex=True)\n",
        "df_med[2] = df_med[2].str.replace(r'.*?MESH:', \"\", regex=True)\n",
        "\n",
        "df_med[1] = df_med[1].map(relation_glossary_relation_dict).fillna(df_med[1])\n",
        "\n",
        "df_med[0] = df_med[0].map(node_dict).fillna(df_med[0])\n",
        "df_med[2] = df_med[2].map(node_dict).fillna(df_med[2])\n",
        "df_med # @@@ Alejandro - Word mapping of some DRKG nodes/relations. See below for \"rx_dx_triplets_med\" which is the subset of drug-treats-disease relations\n"
      ],
      "metadata": {
        "colab": {
          "base_uri": "https://localhost:8080/",
          "height": 424
        },
        "id": "HoImejcxpFYP",
        "outputId": "72ad705e-2856-4fd7-ed7e-5de9f2f2f20c"
      },
      "execution_count": null,
      "outputs": [
        {
          "output_type": "execute_result",
          "data": {
            "text/plain": [
              "              0            1            2\n",
              "0            F8  interaction           F8\n",
              "1            F8  interaction         PHYH\n",
              "2            F8  interaction           F9\n",
              "3            F8  interaction        HSPA5\n",
              "4            F8  interaction  Gene::28912\n",
              "...         ...          ...          ...\n",
              "5874256  COMMD9     reaction         DDB2\n",
              "5874257   PPIL1     reaction       HNRNPC\n",
              "5874258    CBFB    catalysis         CDK1\n",
              "5874259    CES1      binding      UGT2B10\n",
              "5874260    RPA2      binding        CHEK1\n",
              "\n",
              "[5874261 rows x 3 columns]"
            ],
            "text/html": [
              "\n",
              "  <div id=\"df-809cccc6-f4e1-489f-8a0a-b2b95043bb17\">\n",
              "    <div class=\"colab-df-container\">\n",
              "      <div>\n",
              "<style scoped>\n",
              "    .dataframe tbody tr th:only-of-type {\n",
              "        vertical-align: middle;\n",
              "    }\n",
              "\n",
              "    .dataframe tbody tr th {\n",
              "        vertical-align: top;\n",
              "    }\n",
              "\n",
              "    .dataframe thead th {\n",
              "        text-align: right;\n",
              "    }\n",
              "</style>\n",
              "<table border=\"1\" class=\"dataframe\">\n",
              "  <thead>\n",
              "    <tr style=\"text-align: right;\">\n",
              "      <th></th>\n",
              "      <th>0</th>\n",
              "      <th>1</th>\n",
              "      <th>2</th>\n",
              "    </tr>\n",
              "  </thead>\n",
              "  <tbody>\n",
              "    <tr>\n",
              "      <th>0</th>\n",
              "      <td>F8</td>\n",
              "      <td>interaction</td>\n",
              "      <td>F8</td>\n",
              "    </tr>\n",
              "    <tr>\n",
              "      <th>1</th>\n",
              "      <td>F8</td>\n",
              "      <td>interaction</td>\n",
              "      <td>PHYH</td>\n",
              "    </tr>\n",
              "    <tr>\n",
              "      <th>2</th>\n",
              "      <td>F8</td>\n",
              "      <td>interaction</td>\n",
              "      <td>F9</td>\n",
              "    </tr>\n",
              "    <tr>\n",
              "      <th>3</th>\n",
              "      <td>F8</td>\n",
              "      <td>interaction</td>\n",
              "      <td>HSPA5</td>\n",
              "    </tr>\n",
              "    <tr>\n",
              "      <th>4</th>\n",
              "      <td>F8</td>\n",
              "      <td>interaction</td>\n",
              "      <td>Gene::28912</td>\n",
              "    </tr>\n",
              "    <tr>\n",
              "      <th>...</th>\n",
              "      <td>...</td>\n",
              "      <td>...</td>\n",
              "      <td>...</td>\n",
              "    </tr>\n",
              "    <tr>\n",
              "      <th>5874256</th>\n",
              "      <td>COMMD9</td>\n",
              "      <td>reaction</td>\n",
              "      <td>DDB2</td>\n",
              "    </tr>\n",
              "    <tr>\n",
              "      <th>5874257</th>\n",
              "      <td>PPIL1</td>\n",
              "      <td>reaction</td>\n",
              "      <td>HNRNPC</td>\n",
              "    </tr>\n",
              "    <tr>\n",
              "      <th>5874258</th>\n",
              "      <td>CBFB</td>\n",
              "      <td>catalysis</td>\n",
              "      <td>CDK1</td>\n",
              "    </tr>\n",
              "    <tr>\n",
              "      <th>5874259</th>\n",
              "      <td>CES1</td>\n",
              "      <td>binding</td>\n",
              "      <td>UGT2B10</td>\n",
              "    </tr>\n",
              "    <tr>\n",
              "      <th>5874260</th>\n",
              "      <td>RPA2</td>\n",
              "      <td>binding</td>\n",
              "      <td>CHEK1</td>\n",
              "    </tr>\n",
              "  </tbody>\n",
              "</table>\n",
              "<p>5874261 rows × 3 columns</p>\n",
              "</div>\n",
              "      <button class=\"colab-df-convert\" onclick=\"convertToInteractive('df-809cccc6-f4e1-489f-8a0a-b2b95043bb17')\"\n",
              "              title=\"Convert this dataframe to an interactive table.\"\n",
              "              style=\"display:none;\">\n",
              "        \n",
              "  <svg xmlns=\"http://www.w3.org/2000/svg\" height=\"24px\"viewBox=\"0 0 24 24\"\n",
              "       width=\"24px\">\n",
              "    <path d=\"M0 0h24v24H0V0z\" fill=\"none\"/>\n",
              "    <path d=\"M18.56 5.44l.94 2.06.94-2.06 2.06-.94-2.06-.94-.94-2.06-.94 2.06-2.06.94zm-11 1L8.5 8.5l.94-2.06 2.06-.94-2.06-.94L8.5 2.5l-.94 2.06-2.06.94zm10 10l.94 2.06.94-2.06 2.06-.94-2.06-.94-.94-2.06-.94 2.06-2.06.94z\"/><path d=\"M17.41 7.96l-1.37-1.37c-.4-.4-.92-.59-1.43-.59-.52 0-1.04.2-1.43.59L10.3 9.45l-7.72 7.72c-.78.78-.78 2.05 0 2.83L4 21.41c.39.39.9.59 1.41.59.51 0 1.02-.2 1.41-.59l7.78-7.78 2.81-2.81c.8-.78.8-2.07 0-2.86zM5.41 20L4 18.59l7.72-7.72 1.47 1.35L5.41 20z\"/>\n",
              "  </svg>\n",
              "      </button>\n",
              "      \n",
              "  <style>\n",
              "    .colab-df-container {\n",
              "      display:flex;\n",
              "      flex-wrap:wrap;\n",
              "      gap: 12px;\n",
              "    }\n",
              "\n",
              "    .colab-df-convert {\n",
              "      background-color: #E8F0FE;\n",
              "      border: none;\n",
              "      border-radius: 50%;\n",
              "      cursor: pointer;\n",
              "      display: none;\n",
              "      fill: #1967D2;\n",
              "      height: 32px;\n",
              "      padding: 0 0 0 0;\n",
              "      width: 32px;\n",
              "    }\n",
              "\n",
              "    .colab-df-convert:hover {\n",
              "      background-color: #E2EBFA;\n",
              "      box-shadow: 0px 1px 2px rgba(60, 64, 67, 0.3), 0px 1px 3px 1px rgba(60, 64, 67, 0.15);\n",
              "      fill: #174EA6;\n",
              "    }\n",
              "\n",
              "    [theme=dark] .colab-df-convert {\n",
              "      background-color: #3B4455;\n",
              "      fill: #D2E3FC;\n",
              "    }\n",
              "\n",
              "    [theme=dark] .colab-df-convert:hover {\n",
              "      background-color: #434B5C;\n",
              "      box-shadow: 0px 1px 3px 1px rgba(0, 0, 0, 0.15);\n",
              "      filter: drop-shadow(0px 1px 2px rgba(0, 0, 0, 0.3));\n",
              "      fill: #FFFFFF;\n",
              "    }\n",
              "  </style>\n",
              "\n",
              "      <script>\n",
              "        const buttonEl =\n",
              "          document.querySelector('#df-809cccc6-f4e1-489f-8a0a-b2b95043bb17 button.colab-df-convert');\n",
              "        buttonEl.style.display =\n",
              "          google.colab.kernel.accessAllowed ? 'block' : 'none';\n",
              "\n",
              "        async function convertToInteractive(key) {\n",
              "          const element = document.querySelector('#df-809cccc6-f4e1-489f-8a0a-b2b95043bb17');\n",
              "          const dataTable =\n",
              "            await google.colab.kernel.invokeFunction('convertToInteractive',\n",
              "                                                     [key], {});\n",
              "          if (!dataTable) return;\n",
              "\n",
              "          const docLinkHtml = 'Like what you see? Visit the ' +\n",
              "            '<a target=\"_blank\" href=https://colab.research.google.com/notebooks/data_table.ipynb>data table notebook</a>'\n",
              "            + ' to learn more about interactive tables.';\n",
              "          element.innerHTML = '';\n",
              "          dataTable['output_type'] = 'display_data';\n",
              "          await google.colab.output.renderOutput(dataTable, element);\n",
              "          const docLink = document.createElement('div');\n",
              "          docLink.innerHTML = docLinkHtml;\n",
              "          element.appendChild(docLink);\n",
              "        }\n",
              "      </script>\n",
              "    </div>\n",
              "  </div>\n",
              "  "
            ]
          },
          "metadata": {},
          "execution_count": 128
        }
      ]
    },
    {
      "cell_type": "markdown",
      "source": [
        "# 2) Load Pre-train Model"
      ],
      "metadata": {
        "id": "M0TJaaS6xNmD"
      }
    },
    {
      "cell_type": "code",
      "source": [
        "def load_drugd(filename:str,colunm_names:list =['drug','ids'],verbose:bool=False)->list:\n",
        "  \"\"\" Reads a .csv file containing two colunms Compound::DB00605 and id  \n",
        "     Arguments:\n",
        "     filename<str>:                    File to read\n",
        "     colunm_names<list[str]: optional> Colun names of files  (if not provided the file is expected to have to colunms with drugs,id)\n",
        "\n",
        "     Output:\n",
        "      drug_list<list>: list of compunds \n",
        "  \"\"\"\n",
        "\n",
        "  drug_list      = []\n",
        "  with open(filename, newline='', encoding='utf-8') as csvfile:\n",
        "      reader = csv.DictReader(csvfile, delimiter='\\t', fieldnames=['drug','ids'])\n",
        "      for row_val in reader:\n",
        "          drug_list.append(row_val['drug'])\n",
        "      \n",
        "      if verbose: \n",
        "        print(f\"Load file {filename}  with  {len(drug_list)}\\n\")\n",
        "        print(f\"Example, first 5 entries:\\n {drug_list[0:5]}\\n\")\n",
        "\n",
        "  return drug_list\n",
        "\n",
        "\n",
        "\n",
        "\n",
        "\n",
        "### 1) Read file of Drgus \n",
        "drug_file_name = os.path.join(\"DRKG\",\"drug_repurpose\",\"infer_drug.tsv\")\n",
        "drug_list      = load_drugd(filename=drug_file_name ,verbose=True)"
      ],
      "metadata": {
        "colab": {
          "base_uri": "https://localhost:8080/"
        },
        "id": "O6fxIu_lyCNn",
        "outputId": "603782c8-c186-415b-88fc-7d621da6755b"
      },
      "execution_count": null,
      "outputs": [
        {
          "output_type": "stream",
          "name": "stdout",
          "text": [
            "Load file DRKG/drug_repurpose/infer_drug.tsv  with  8104\n",
            "\n",
            "Example, first 5 entries:\n",
            " ['Compound::DB00605', 'Compound::DB00983', 'Compound::DB01240', 'Compound::DB11755', 'Compound::DB12184']\n",
            "\n"
          ]
        }
      ]
    },
    {
      "cell_type": "code",
      "source": [
        "entity_idmap_file   = 'embed/entities.tsv'\n",
        "relation_idmap_file = 'embed/relations.tsv'\n",
        "\n",
        "\n",
        "\n",
        "# Get drugname/disease name to entity ID mappings\n",
        "entity_map = {}\n",
        "entity_id_map = {}\n",
        "relation_map = {}\n",
        "with open(entity_idmap_file, newline='', encoding='utf-8') as csvfile:\n",
        "    reader = csv.DictReader(csvfile, delimiter='\\t', fieldnames=['name','id'])\n",
        "    for row_val in reader:\n",
        "        entity_map[row_val['name']] = int(row_val['id'])\n",
        "        entity_id_map[int(row_val['id'])] = row_val['name']\n",
        "        \n",
        "with open(relation_idmap_file, newline='', encoding='utf-8') as csvfile:\n",
        "    reader = csv.DictReader(csvfile, delimiter='\\t', fieldnames=['name','id'])\n",
        "    for row_val in reader:\n",
        "        relation_map[row_val['name']] = int(row_val['id'])\n",
        "        \n",
        "# handle the ID mapping\n",
        "drug_ids = []\n",
        "disease_ids = []\n",
        "for drug in drug_list:\n",
        "    drug_ids.append(entity_map[drug])\n",
        "    \n",
        "for disease in COV_disease_list:\n",
        "    disease_ids.append(entity_map[disease])\n",
        "\n",
        "treatment_rid = [relation_map[treat]  for treat in treatment]"
      ],
      "metadata": {
        "colab": {
          "base_uri": "https://localhost:8080/",
          "height": 235
        },
        "id": "ER7N355YxQf_",
        "outputId": "2ab2ce4d-73e6-4572-9e8d-dfadb92e58e3"
      },
      "execution_count": null,
      "outputs": [
        {
          "output_type": "error",
          "ename": "NameError",
          "evalue": "ignored",
          "traceback": [
            "\u001b[0;31m---------------------------------------------------------------------------\u001b[0m",
            "\u001b[0;31mNameError\u001b[0m                                 Traceback (most recent call last)",
            "\u001b[0;32m<ipython-input-139-73b8dfb092b2>\u001b[0m in \u001b[0;36m<cell line: 9>\u001b[0;34m()\u001b[0m\n\u001b[1;32m      8\u001b[0m \u001b[0mrelation_map\u001b[0m \u001b[0;34m=\u001b[0m \u001b[0;34m{\u001b[0m\u001b[0;34m}\u001b[0m\u001b[0;34m\u001b[0m\u001b[0;34m\u001b[0m\u001b[0m\n\u001b[1;32m      9\u001b[0m \u001b[0;32mwith\u001b[0m \u001b[0mopen\u001b[0m\u001b[0;34m(\u001b[0m\u001b[0mentity_idmap_file\u001b[0m\u001b[0;34m,\u001b[0m \u001b[0mnewline\u001b[0m\u001b[0;34m=\u001b[0m\u001b[0;34m''\u001b[0m\u001b[0;34m,\u001b[0m \u001b[0mencoding\u001b[0m\u001b[0;34m=\u001b[0m\u001b[0;34m'utf-8'\u001b[0m\u001b[0;34m)\u001b[0m \u001b[0;32mas\u001b[0m \u001b[0mcsvfile\u001b[0m\u001b[0;34m:\u001b[0m\u001b[0;34m\u001b[0m\u001b[0;34m\u001b[0m\u001b[0m\n\u001b[0;32m---> 10\u001b[0;31m     \u001b[0mreader\u001b[0m \u001b[0;34m=\u001b[0m \u001b[0mcsv\u001b[0m\u001b[0;34m.\u001b[0m\u001b[0mDictReader\u001b[0m\u001b[0;34m(\u001b[0m\u001b[0mcsvfile\u001b[0m\u001b[0;34m,\u001b[0m \u001b[0mdelimiter\u001b[0m\u001b[0;34m=\u001b[0m\u001b[0;34m'\\t'\u001b[0m\u001b[0;34m,\u001b[0m \u001b[0mfieldnames\u001b[0m\u001b[0;34m=\u001b[0m\u001b[0;34m[\u001b[0m\u001b[0;34m'name'\u001b[0m\u001b[0;34m,\u001b[0m\u001b[0;34m'id'\u001b[0m\u001b[0;34m]\u001b[0m\u001b[0;34m)\u001b[0m\u001b[0;34m\u001b[0m\u001b[0;34m\u001b[0m\u001b[0m\n\u001b[0m\u001b[1;32m     11\u001b[0m     \u001b[0;32mfor\u001b[0m \u001b[0mrow_val\u001b[0m \u001b[0;32min\u001b[0m \u001b[0mreader\u001b[0m\u001b[0;34m:\u001b[0m\u001b[0;34m\u001b[0m\u001b[0;34m\u001b[0m\u001b[0m\n\u001b[1;32m     12\u001b[0m         \u001b[0mentity_map\u001b[0m\u001b[0;34m[\u001b[0m\u001b[0mrow_val\u001b[0m\u001b[0;34m[\u001b[0m\u001b[0;34m'name'\u001b[0m\u001b[0;34m]\u001b[0m\u001b[0;34m]\u001b[0m \u001b[0;34m=\u001b[0m \u001b[0mint\u001b[0m\u001b[0;34m(\u001b[0m\u001b[0mrow_val\u001b[0m\u001b[0;34m[\u001b[0m\u001b[0;34m'id'\u001b[0m\u001b[0;34m]\u001b[0m\u001b[0;34m)\u001b[0m\u001b[0;34m\u001b[0m\u001b[0;34m\u001b[0m\u001b[0m\n",
            "\u001b[0;31mNameError\u001b[0m: name 'csv' is not defined"
          ]
        }
      ]
    },
    {
      "cell_type": "markdown",
      "source": [
        "## Checks "
      ],
      "metadata": {
        "id": "TKBOH3xvtqSK"
      }
    },
    {
      "cell_type": "code",
      "source": [
        "df0_test    = get_unique_values(df_med, colunm=0) \n",
        "df2_test    = get_unique_values(df_med, colunm=2) \n",
        "df_0_2_test = np.unique(np.append(df0_test,df2_test))\n",
        "print(len(df0_test))\n",
        "print(len(df2_test))\n",
        "print(len(df_0_2_test))\n",
        "df_0_2_test \n"
      ],
      "metadata": {
        "colab": {
          "base_uri": "https://localhost:8080/"
        },
        "id": "z-iJ4X48QOY8",
        "outputId": "a238a631-b96a-4062-9500-bcf6b2f59bcc"
      },
      "execution_count": null,
      "outputs": [
        {
          "output_type": "stream",
          "name": "stdout",
          "text": [
            "28143\n",
            "27837\n",
            "39454\n"
          ]
        },
        {
          "output_type": "execute_result",
          "data": {
            "text/plain": [
              "array(['Atc::A', 'Atc::A01', 'Atc::A01A', ..., 'Tax::9940', 'Tax::99802',\n",
              "       'Tax::9986'], dtype=object)"
            ]
          },
          "metadata": {},
          "execution_count": 135
        }
      ]
    },
    {
      "cell_type": "code",
      "source": [
        "# Check if Word DRKG has all drug-treats-disease relationships in word form \n",
        "print(df.shape[0])\n",
        "print(df_med.shape[0])\n",
        "\n",
        "rx_dx_df_med       = df_med[df[1].isin(relation_subset)]\n",
        "rx_dx_triplets_med = rx_dx_df_med.values.tolist()\n",
        "rx_dx_triplets_med"
      ],
      "metadata": {
        "colab": {
          "base_uri": "https://localhost:8080/"
        },
        "id": "n_Hx2XDt6k_x",
        "outputId": "35b6b499-fef8-406b-e2f4-6032a19b04f7"
      },
      "execution_count": null,
      "outputs": [
        {
          "output_type": "stream",
          "name": "stdout",
          "text": [
            "5874261\n",
            "5874261\n"
          ]
        }
      ]
    },
    {
      "cell_type": "code",
      "source": [
        "\n",
        "rx0_test = get_unique_values(rx_dx_df_med, colunm=0) \n",
        "rx2_test = get_unique_values(rx_dx_df_med, colunm=2) \n",
        "rx_remaining_terms = np.unique(np.append(rx0_test,rx2_test))"
      ],
      "metadata": {
        "id": "mxkqHow966YL"
      },
      "execution_count": null,
      "outputs": []
    },
    {
      "cell_type": "code",
      "source": [
        "rx_remaining_terms"
      ],
      "metadata": {
        "colab": {
          "base_uri": "https://localhost:8080/"
        },
        "id": "xa_tejah8coi",
        "outputId": "47d19250-2edd-4050-8b6b-e61087355a6e"
      },
      "execution_count": null,
      "outputs": [
        {
          "output_type": "execute_result",
          "data": {
            "text/plain": [
              "array(['Compound::CHEBI:128458', 'Compound::CHEBI:12936',\n",
              "       'Compound::CHEBI:136604', ..., 'Disease::OMIM:613290',\n",
              "       'Disease::OMIM:613508', 'Disease::OMIM:613729'], dtype=object)"
            ]
          },
          "metadata": {},
          "execution_count": 116
        }
      ]
    }
  ]
}